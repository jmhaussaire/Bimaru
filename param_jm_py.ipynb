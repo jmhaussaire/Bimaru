{
  "nbformat": 4,
  "nbformat_minor": 0,
  "metadata": {
    "colab": {
      "name": "param_jm.py",
      "provenance": [],
      "include_colab_link": true
    },
    "kernelspec": {
      "name": "python3",
      "display_name": "Python 3"
    }
  },
  "cells": [
    {
      "cell_type": "markdown",
      "metadata": {
        "id": "view-in-github",
        "colab_type": "text"
      },
      "source": [
        "<a href=\"https://colab.research.google.com/github/jmhaussaire/Bimaru/blob/master/param_jm_py.ipynb\" target=\"_parent\"><img src=\"https://colab.research.google.com/assets/colab-badge.svg\" alt=\"Open In Colab\"/></a>"
      ]
    },
    {
      "cell_type": "code",
      "metadata": {
        "id": "9GsDf0yJryFK",
        "colab_type": "code",
        "colab": {}
      },
      "source": [
        "#Inputs\n",
        "data_path = \"/gdrive/My Drive/SOAI/TrafficAnalysis-master/\"\n",
        "input_csv_file = 'Vehicles_2016-05-10.csv'\n",
        "vid_in = \"MAH00004.MP4\"\n",
        "seconds_skip = 0  # number of seconds to skip\n",
        "seconds_count = 240  # number of seconds to process\n",
        "\n",
        "# Outputs\n",
        "vid_out = \"test_%d.mp4\"\n",
        "vid_out_length = 15 # number of seconds of each output video\n",
        "img_path = 'output/'\n",
        "out_csv_file = 'output/Vehicle-list.csv'\n",
        "\n",
        "#Yolo\n",
        "yolo_score = 0.6"
      ],
      "execution_count": 0,
      "outputs": []
    },
    {
      "cell_type": "code",
      "metadata": {
        "id": "LoreirOLsHCi",
        "colab_type": "code",
        "colab": {}
      },
      "source": [
        ""
      ],
      "execution_count": 0,
      "outputs": []
    }
  ]
}